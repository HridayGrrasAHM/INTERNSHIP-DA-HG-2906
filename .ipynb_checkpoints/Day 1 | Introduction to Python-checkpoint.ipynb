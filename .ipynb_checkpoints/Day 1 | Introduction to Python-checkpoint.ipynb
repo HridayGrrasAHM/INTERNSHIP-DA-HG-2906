{
 "cells": [
  {
   "cell_type": "markdown",
   "id": "ede1309c",
   "metadata": {},
   "source": [
    "# Day 1\n",
    "## Introduction to Python"
   ]
  },
  {
   "cell_type": "code",
   "execution_count": 1,
   "id": "f61578bf",
   "metadata": {},
   "outputs": [
    {
     "name": "stdout",
     "output_type": "stream",
     "text": [
      "Hello world\n"
     ]
    }
   ],
   "source": [
    "print(\"Hello world\")"
   ]
  },
  {
   "cell_type": "markdown",
   "id": "5b402c97",
   "metadata": {},
   "source": [
    "# Escape Sequence:\n",
    "\n",
    "1. \"\\n\" -> new line\n",
    "2. \"\\t\" -> one tab space\n",
    "3. \" \\\" or \\' \" -> used to print \"\" or '' in your output"
   ]
  },
  {
   "cell_type": "code",
   "execution_count": 4,
   "id": "d3972ea7",
   "metadata": {},
   "outputs": [
    {
     "name": "stdout",
     "output_type": "stream",
     "text": [
      "Hello world. \n",
      "How are you?\n"
     ]
    }
   ],
   "source": [
    "# new line \"\\n\"\n",
    "print(\"Hello world. \\nHow are you?\")"
   ]
  },
  {
   "cell_type": "code",
   "execution_count": 5,
   "id": "3b4f04f5",
   "metadata": {},
   "outputs": [
    {
     "name": "stdout",
     "output_type": "stream",
     "text": [
      "Hello world.\tHow are you?\n"
     ]
    }
   ],
   "source": [
    "# one tab space \"\\t\"\n",
    "print(\"Hello world.\\tHow are you?\")"
   ]
  },
  {
   "cell_type": "code",
   "execution_count": 12,
   "id": "33b4d62b",
   "metadata": {},
   "outputs": [
    {
     "name": "stdout",
     "output_type": "stream",
     "text": [
      "Hello 'world'\n",
      "Hello \"world\"\n",
      "Hello 'world'\n",
      "Hello \"world\"\n"
     ]
    }
   ],
   "source": [
    "# \\\" or \\'\n",
    "print(\"Hello 'world'\")\n",
    "print('Hello \"world\"')\n",
    "print('Hello \\'world\\'') # using \\'\n",
    "print(\"Hello \\\"world\\\"\") # using \\\""
   ]
  },
  {
   "cell_type": "code",
   "execution_count": 13,
   "id": "c9c040c6",
   "metadata": {},
   "outputs": [
    {
     "name": "stdout",
     "output_type": "stream",
     "text": [
      "Help on built-in function print in module builtins:\n",
      "\n",
      "print(*args, sep=' ', end='\\n', file=None, flush=False)\n",
      "    Prints the values to a stream, or to sys.stdout by default.\n",
      "    \n",
      "    sep\n",
      "      string inserted between values, default a space.\n",
      "    end\n",
      "      string appended after the last value, default a newline.\n",
      "    file\n",
      "      a file-like object (stream); defaults to the current sys.stdout.\n",
      "    flush\n",
      "      whether to forcibly flush the stream.\n",
      "\n"
     ]
    }
   ],
   "source": [
    "# Attributes (parameters)\n",
    "help(print)"
   ]
  },
  {
   "cell_type": "code",
   "execution_count": 17,
   "id": "4a730e5b",
   "metadata": {},
   "outputs": [
    {
     "name": "stdout",
     "output_type": "stream",
     "text": [
      "Hello world\n",
      "How are you?\n",
      "Today is a fine day\n",
      "Hello world How are you? Today is a fine day\n"
     ]
    }
   ],
   "source": [
    "# sep\n",
    "print(\"Hello world\", \"How are you?\", \"Today is a fine day\",sep=\"\\n\")\n",
    "\n",
    "# without sep\n",
    "print(\"Hello world\", \"How are you?\", \"Today is a fine day\")"
   ]
  },
  {
   "cell_type": "code",
   "execution_count": 19,
   "id": "d7ee727a",
   "metadata": {},
   "outputs": [
    {
     "name": "stdout",
     "output_type": "stream",
     "text": [
      "Hello world\n",
      "How are you?\n",
      "Hello world How are you?\n"
     ]
    }
   ],
   "source": [
    "# without end\n",
    "print(\"Hello world\")\n",
    "print(\"How are you?\")\n",
    "\n",
    "# end\n",
    "print(\"Hello world\", end=' ')\n",
    "print(\"How are you?\")"
   ]
  },
  {
   "cell_type": "markdown",
   "id": "793b6f4b",
   "metadata": {},
   "source": [
    "# Variables:\n",
    "\n",
    "It is a type of an empty container inside which data from various sources can be added.\n",
    "\n",
    "## Syntax for creating a variables\n",
    "\n",
    "`var-name` = value\n",
    "\n",
    "## Rules for creating variables\n",
    "\n",
    "1. A variable name cannot start with a number -> a1 (Correct) & 1a (Incorrect)\n",
    "2. A variable name cannot contain spaces -> Hriday_Goswami or HridayGoswami (Correct) & Hriday Goswami (Incorrect)\n",
    "3. A variable name cannot contain special characters\n",
    "4. A variable name cannot be a reserved keyword: (print, if, else, int, for, while, ...)"
   ]
  },
  {
   "cell_type": "code",
   "execution_count": 20,
   "id": "37ae34b7",
   "metadata": {},
   "outputs": [],
   "source": [
    "print = \"Hi\""
   ]
  },
  {
   "cell_type": "code",
   "execution_count": 21,
   "id": "c61fe757",
   "metadata": {},
   "outputs": [
    {
     "ename": "TypeError",
     "evalue": "'str' object is not callable",
     "output_type": "error",
     "traceback": [
      "\u001b[0;31m---------------------------------------------------------------------------\u001b[0m",
      "\u001b[0;31mTypeError\u001b[0m                                 Traceback (most recent call last)",
      "Cell \u001b[0;32mIn[21], line 1\u001b[0m\n\u001b[0;32m----> 1\u001b[0m \u001b[38;5;28mprint\u001b[39m(\u001b[38;5;28mprint\u001b[39m)\n",
      "\u001b[0;31mTypeError\u001b[0m: 'str' object is not callable"
     ]
    }
   ],
   "source": [
    "print(print)"
   ]
  },
  {
   "cell_type": "code",
   "execution_count": 1,
   "id": "daa8d7dc",
   "metadata": {},
   "outputs": [
    {
     "name": "stdout",
     "output_type": "stream",
     "text": [
      "Hello\n"
     ]
    }
   ],
   "source": [
    "print(\"Hello\")"
   ]
  },
  {
   "cell_type": "code",
   "execution_count": 2,
   "id": "80aeed6f",
   "metadata": {},
   "outputs": [
    {
     "ename": "SyntaxError",
     "evalue": "invalid decimal literal (1590746202.py, line 1)",
     "output_type": "error",
     "traceback": [
      "\u001b[0;36m  Cell \u001b[0;32mIn[2], line 1\u001b[0;36m\u001b[0m\n\u001b[0;31m    1a = 5\u001b[0m\n\u001b[0m    ^\u001b[0m\n\u001b[0;31mSyntaxError\u001b[0m\u001b[0;31m:\u001b[0m invalid decimal literal\n"
     ]
    }
   ],
   "source": [
    "1a = 5"
   ]
  },
  {
   "cell_type": "code",
   "execution_count": 3,
   "id": "bd427818",
   "metadata": {},
   "outputs": [
    {
     "ename": "SyntaxError",
     "evalue": "invalid syntax (694281977.py, line 1)",
     "output_type": "error",
     "traceback": [
      "\u001b[0;36m  Cell \u001b[0;32mIn[3], line 1\u001b[0;36m\u001b[0m\n\u001b[0;31m    a 1 = 1\u001b[0m\n\u001b[0m      ^\u001b[0m\n\u001b[0;31mSyntaxError\u001b[0m\u001b[0;31m:\u001b[0m invalid syntax\n"
     ]
    }
   ],
   "source": [
    "a 1 = 1"
   ]
  },
  {
   "cell_type": "code",
   "execution_count": 4,
   "id": "1476ee61",
   "metadata": {},
   "outputs": [
    {
     "ename": "SyntaxError",
     "evalue": "invalid syntax (4003372824.py, line 1)",
     "output_type": "error",
     "traceback": [
      "\u001b[0;36m  Cell \u001b[0;32mIn[4], line 1\u001b[0;36m\u001b[0m\n\u001b[0;31m    a* = 10\u001b[0m\n\u001b[0m       ^\u001b[0m\n\u001b[0;31mSyntaxError\u001b[0m\u001b[0;31m:\u001b[0m invalid syntax\n"
     ]
    }
   ],
   "source": [
    "a* = 10"
   ]
  },
  {
   "cell_type": "markdown",
   "id": "226325e6",
   "metadata": {},
   "source": [
    "# Datatypes:\n",
    "\n",
    "1. Primitive Datatype (one variable one value)\n",
    "    * int (numbers)\n",
    "    * float (decimals)\n",
    "    * string (words, sentences, paragraphs)\n",
    "        * Single Line String -> '' or \"\"\n",
    "        * Multi Line String -> \"\"\" \"\"\"\n",
    "    * Boolean (True or False)\n",
    "    \n",
    "2. Non-primitive Datatype (one variable multiple value)\n",
    "    * list [] (martix) {changes} -> mutable\n",
    "    * tuple () (martix) {no changes} -> immutable\n",
    "    * dict\n",
    "    * set {}"
   ]
  },
  {
   "cell_type": "code",
   "execution_count": 7,
   "id": "e6ff4bcc",
   "metadata": {},
   "outputs": [],
   "source": [
    "# int -> int\n",
    "integer = 10"
   ]
  },
  {
   "cell_type": "code",
   "execution_count": 8,
   "id": "92626350",
   "metadata": {},
   "outputs": [
    {
     "name": "stdout",
     "output_type": "stream",
     "text": [
      "10\n"
     ]
    }
   ],
   "source": [
    "print(integer)"
   ]
  },
  {
   "cell_type": "code",
   "execution_count": 9,
   "id": "66b32e6e",
   "metadata": {},
   "outputs": [
    {
     "name": "stdout",
     "output_type": "stream",
     "text": [
      "The variable integer has 10\n"
     ]
    }
   ],
   "source": [
    "print(\"The variable integer has\", integer)"
   ]
  },
  {
   "cell_type": "code",
   "execution_count": 14,
   "id": "57013c5e",
   "metadata": {},
   "outputs": [
    {
     "name": "stdout",
     "output_type": "stream",
     "text": [
      "<class 'int'>\n"
     ]
    }
   ],
   "source": [
    "print(type(integer))"
   ]
  },
  {
   "cell_type": "code",
   "execution_count": 10,
   "id": "b1ce1c61",
   "metadata": {},
   "outputs": [],
   "source": [
    "# float -> float\n",
    "flt = 10.56"
   ]
  },
  {
   "cell_type": "code",
   "execution_count": 11,
   "id": "d2e7daf5",
   "metadata": {},
   "outputs": [
    {
     "name": "stdout",
     "output_type": "stream",
     "text": [
      "10.56\n"
     ]
    }
   ],
   "source": [
    "print(flt)"
   ]
  },
  {
   "cell_type": "code",
   "execution_count": 12,
   "id": "bebdaadd",
   "metadata": {},
   "outputs": [
    {
     "name": "stdout",
     "output_type": "stream",
     "text": [
      "The variable flt has 10.56\n"
     ]
    }
   ],
   "source": [
    "print(\"The variable flt has\", flt)"
   ]
  },
  {
   "cell_type": "code",
   "execution_count": 15,
   "id": "381a0acf",
   "metadata": {},
   "outputs": [
    {
     "name": "stdout",
     "output_type": "stream",
     "text": [
      "<class 'float'>\n"
     ]
    }
   ],
   "source": [
    "print(type(flt))"
   ]
  },
  {
   "cell_type": "code",
   "execution_count": 27,
   "id": "57653366",
   "metadata": {},
   "outputs": [],
   "source": [
    "# string -> str\n",
    "string = \"Hello world\" # single line string\n",
    "multi_string = \"\"\"Hello world \n",
    "Today is a fine day\n",
    "Let's drink milk\"\"\""
   ]
  },
  {
   "cell_type": "code",
   "execution_count": 28,
   "id": "7492c636",
   "metadata": {},
   "outputs": [
    {
     "name": "stdout",
     "output_type": "stream",
     "text": [
      "Hello world\n"
     ]
    }
   ],
   "source": [
    "print(string)"
   ]
  },
  {
   "cell_type": "code",
   "execution_count": 29,
   "id": "ba90d553",
   "metadata": {},
   "outputs": [
    {
     "name": "stdout",
     "output_type": "stream",
     "text": [
      "Hello world \n",
      "Today is a fine day\n",
      "Let's drink milk\n"
     ]
    }
   ],
   "source": [
    "print(multi_string)"
   ]
  },
  {
   "cell_type": "code",
   "execution_count": 30,
   "id": "b6a81b5b",
   "metadata": {},
   "outputs": [
    {
     "name": "stdout",
     "output_type": "stream",
     "text": [
      "<class 'str'>\n"
     ]
    }
   ],
   "source": [
    "print(type(string))"
   ]
  },
  {
   "cell_type": "code",
   "execution_count": 31,
   "id": "a34568fc",
   "metadata": {},
   "outputs": [
    {
     "name": "stdout",
     "output_type": "stream",
     "text": [
      "<class 'str'>\n"
     ]
    }
   ],
   "source": [
    "print(type(multi_string))"
   ]
  },
  {
   "cell_type": "code",
   "execution_count": 32,
   "id": "790e62ee",
   "metadata": {},
   "outputs": [],
   "source": [
    "# boolean -> bool\n",
    "boolean_1 = True\n",
    "boolean_2 = False "
   ]
  },
  {
   "cell_type": "code",
   "execution_count": 33,
   "id": "79d75789",
   "metadata": {},
   "outputs": [
    {
     "name": "stdout",
     "output_type": "stream",
     "text": [
      "True\n",
      "False\n"
     ]
    }
   ],
   "source": [
    "print(boolean_1)\n",
    "print(boolean_2)"
   ]
  },
  {
   "cell_type": "code",
   "execution_count": 34,
   "id": "d8b32a18",
   "metadata": {},
   "outputs": [
    {
     "name": "stdout",
     "output_type": "stream",
     "text": [
      "<class 'bool'>\n",
      "<class 'bool'>\n"
     ]
    }
   ],
   "source": [
    "print(type(boolean_1))\n",
    "print(type(boolean_2))"
   ]
  },
  {
   "cell_type": "markdown",
   "id": "308a18a9",
   "metadata": {},
   "source": [
    "# Typecasting\n",
    "Going from one datatype to another"
   ]
  },
  {
   "cell_type": "code",
   "execution_count": 35,
   "id": "96d35e21",
   "metadata": {},
   "outputs": [],
   "source": [
    "inetger = 10"
   ]
  },
  {
   "cell_type": "code",
   "execution_count": 36,
   "id": "4166ee4f",
   "metadata": {},
   "outputs": [
    {
     "data": {
      "text/plain": [
       "10"
      ]
     },
     "execution_count": 36,
     "metadata": {},
     "output_type": "execute_result"
    }
   ],
   "source": [
    "integer"
   ]
  },
  {
   "cell_type": "code",
   "execution_count": 37,
   "id": "0f5a9db0",
   "metadata": {},
   "outputs": [
    {
     "data": {
      "text/plain": [
       "10.0"
      ]
     },
     "execution_count": 37,
     "metadata": {},
     "output_type": "execute_result"
    }
   ],
   "source": [
    "float(integer)"
   ]
  },
  {
   "cell_type": "code",
   "execution_count": 38,
   "id": "e4dc71d8",
   "metadata": {},
   "outputs": [
    {
     "data": {
      "text/plain": [
       "'10'"
      ]
     },
     "execution_count": 38,
     "metadata": {},
     "output_type": "execute_result"
    }
   ],
   "source": [
    "str(integer)"
   ]
  },
  {
   "cell_type": "code",
   "execution_count": 39,
   "id": "9b13b11e",
   "metadata": {},
   "outputs": [
    {
     "data": {
      "text/plain": [
       "True"
      ]
     },
     "execution_count": 39,
     "metadata": {},
     "output_type": "execute_result"
    }
   ],
   "source": [
    "bool(integer)"
   ]
  },
  {
   "cell_type": "code",
   "execution_count": 40,
   "id": "21d69d79",
   "metadata": {},
   "outputs": [
    {
     "data": {
      "text/plain": [
       "False"
      ]
     },
     "execution_count": 40,
     "metadata": {},
     "output_type": "execute_result"
    }
   ],
   "source": [
    "bool(0)"
   ]
  },
  {
   "cell_type": "code",
   "execution_count": 41,
   "id": "ab4aacf7",
   "metadata": {},
   "outputs": [
    {
     "data": {
      "text/plain": [
       "True"
      ]
     },
     "execution_count": 41,
     "metadata": {},
     "output_type": "execute_result"
    }
   ],
   "source": [
    "bool(\"0\")"
   ]
  },
  {
   "cell_type": "code",
   "execution_count": 42,
   "id": "673b2292",
   "metadata": {},
   "outputs": [],
   "source": [
    "# list -> list\n",
    "l = [1,2,3,1.1,2.3,3.1,'ABC', 'DEF', True, False]"
   ]
  },
  {
   "cell_type": "code",
   "execution_count": 43,
   "id": "7df770dc",
   "metadata": {},
   "outputs": [
    {
     "data": {
      "text/plain": [
       "[1, 2, 3, 1.1, 2.3, 3.1, 'ABC', 'DEF', True, False]"
      ]
     },
     "execution_count": 43,
     "metadata": {},
     "output_type": "execute_result"
    }
   ],
   "source": [
    "l"
   ]
  },
  {
   "cell_type": "code",
   "execution_count": 44,
   "id": "dfc4cd5a",
   "metadata": {},
   "outputs": [
    {
     "data": {
      "text/plain": [
       "10"
      ]
     },
     "execution_count": 44,
     "metadata": {},
     "output_type": "execute_result"
    }
   ],
   "source": [
    "# l[index]\n",
    "# index_start = 0 to index_end = length_of_list-1\n",
    "len(l)"
   ]
  },
  {
   "cell_type": "code",
   "execution_count": 45,
   "id": "7dfe1b4a",
   "metadata": {},
   "outputs": [
    {
     "data": {
      "text/plain": [
       "1"
      ]
     },
     "execution_count": 45,
     "metadata": {},
     "output_type": "execute_result"
    }
   ],
   "source": [
    "l[0]"
   ]
  },
  {
   "cell_type": "code",
   "execution_count": 46,
   "id": "56e4e3f9",
   "metadata": {},
   "outputs": [
    {
     "ename": "IndexError",
     "evalue": "list index out of range",
     "output_type": "error",
     "traceback": [
      "\u001b[0;31m---------------------------------------------------------------------------\u001b[0m",
      "\u001b[0;31mIndexError\u001b[0m                                Traceback (most recent call last)",
      "Cell \u001b[0;32mIn[46], line 1\u001b[0m\n\u001b[0;32m----> 1\u001b[0m l[\u001b[38;5;241m10\u001b[39m]\n",
      "\u001b[0;31mIndexError\u001b[0m: list index out of range"
     ]
    }
   ],
   "source": [
    "l[10]"
   ]
  },
  {
   "cell_type": "code",
   "execution_count": 47,
   "id": "5842caa6",
   "metadata": {},
   "outputs": [
    {
     "data": {
      "text/plain": [
       "False"
      ]
     },
     "execution_count": 47,
     "metadata": {},
     "output_type": "execute_result"
    }
   ],
   "source": [
    "l[9]"
   ]
  },
  {
   "cell_type": "code",
   "execution_count": 48,
   "id": "1c1f064b",
   "metadata": {},
   "outputs": [
    {
     "data": {
      "text/plain": [
       "False"
      ]
     },
     "execution_count": 48,
     "metadata": {},
     "output_type": "execute_result"
    }
   ],
   "source": [
    "l[-1]"
   ]
  },
  {
   "cell_type": "code",
   "execution_count": 49,
   "id": "1bfed0a3",
   "metadata": {},
   "outputs": [
    {
     "data": {
      "text/plain": [
       "True"
      ]
     },
     "execution_count": 49,
     "metadata": {},
     "output_type": "execute_result"
    }
   ],
   "source": [
    "l[-2]"
   ]
  },
  {
   "cell_type": "code",
   "execution_count": 51,
   "id": "531e2d72",
   "metadata": {},
   "outputs": [],
   "source": [
    "l[7] = 'XYZ'"
   ]
  },
  {
   "cell_type": "code",
   "execution_count": 52,
   "id": "067ba419",
   "metadata": {},
   "outputs": [
    {
     "data": {
      "text/plain": [
       "[1, 2, 3, 1.1, 2.3, 3.1, 'ABC', 'XYZ', True, False]"
      ]
     },
     "execution_count": 52,
     "metadata": {},
     "output_type": "execute_result"
    }
   ],
   "source": [
    "l"
   ]
  },
  {
   "cell_type": "code",
   "execution_count": 54,
   "id": "03016ff5",
   "metadata": {},
   "outputs": [],
   "source": [
    "# tuple\n",
    "t = (1, 2, 3, 1.1, 2.3, 3.1, 'ABC', 'XYZ', True, False)"
   ]
  },
  {
   "cell_type": "code",
   "execution_count": 55,
   "id": "ebf0eaa0",
   "metadata": {},
   "outputs": [
    {
     "data": {
      "text/plain": [
       "1"
      ]
     },
     "execution_count": 55,
     "metadata": {},
     "output_type": "execute_result"
    }
   ],
   "source": [
    "# indexing same as list\n",
    "t[0]"
   ]
  },
  {
   "cell_type": "code",
   "execution_count": 56,
   "id": "30b24e3f",
   "metadata": {},
   "outputs": [
    {
     "data": {
      "text/plain": [
       "False"
      ]
     },
     "execution_count": 56,
     "metadata": {},
     "output_type": "execute_result"
    }
   ],
   "source": [
    "t[9]"
   ]
  },
  {
   "cell_type": "code",
   "execution_count": 57,
   "id": "a92af37f",
   "metadata": {},
   "outputs": [
    {
     "data": {
      "text/plain": [
       "False"
      ]
     },
     "execution_count": 57,
     "metadata": {},
     "output_type": "execute_result"
    }
   ],
   "source": [
    "t[-1]"
   ]
  },
  {
   "cell_type": "code",
   "execution_count": 58,
   "id": "a5cb21e5",
   "metadata": {},
   "outputs": [
    {
     "data": {
      "text/plain": [
       "True"
      ]
     },
     "execution_count": 58,
     "metadata": {},
     "output_type": "execute_result"
    }
   ],
   "source": [
    "t[-2]"
   ]
  },
  {
   "cell_type": "code",
   "execution_count": 60,
   "id": "f165c420",
   "metadata": {},
   "outputs": [
    {
     "ename": "TypeError",
     "evalue": "'tuple' object does not support item assignment",
     "output_type": "error",
     "traceback": [
      "\u001b[0;31m---------------------------------------------------------------------------\u001b[0m",
      "\u001b[0;31mTypeError\u001b[0m                                 Traceback (most recent call last)",
      "Cell \u001b[0;32mIn[60], line 1\u001b[0m\n\u001b[0;32m----> 1\u001b[0m t[\u001b[38;5;241m7\u001b[39m] \u001b[38;5;241m=\u001b[39m \u001b[38;5;124m'\u001b[39m\u001b[38;5;124mDEF\u001b[39m\u001b[38;5;124m'\u001b[39m\n",
      "\u001b[0;31mTypeError\u001b[0m: 'tuple' object does not support item assignment"
     ]
    }
   ],
   "source": [
    "t[7] = 'DEF'"
   ]
  },
  {
   "cell_type": "code",
   "execution_count": 61,
   "id": "2580b0ee",
   "metadata": {},
   "outputs": [],
   "source": [
    "# dict\n",
    "d = {\n",
    "    \"index\":\"value\",\n",
    "    \"int\":10,\n",
    "    \"float\":10.5,\n",
    "    \"str\":\"ABC\",\n",
    "    \"bool\":True,\n",
    "    \"list\":[1,2,3],\n",
    "    \"tuple\":(1,2,3),\n",
    "    \"dict\":{\n",
    "        \"1\":\"2\",\n",
    "        \"3\":\"4\"\n",
    "    }\n",
    "}"
   ]
  },
  {
   "cell_type": "code",
   "execution_count": 63,
   "id": "39add204",
   "metadata": {},
   "outputs": [
    {
     "data": {
      "text/plain": [
       "{'index': 'value',\n",
       " 'int': 10,\n",
       " 'float': 10.5,\n",
       " 'str': 'ABC',\n",
       " 'bool': True,\n",
       " 'list': [1, 2, 3],\n",
       " 'tuple': (1, 2, 3),\n",
       " 'dict': {'1': '2', '3': '4'}}"
      ]
     },
     "execution_count": 63,
     "metadata": {},
     "output_type": "execute_result"
    }
   ],
   "source": [
    "d"
   ]
  },
  {
   "cell_type": "code",
   "execution_count": 65,
   "id": "66b54dfc",
   "metadata": {},
   "outputs": [
    {
     "data": {
      "text/plain": [
       "'value'"
      ]
     },
     "execution_count": 65,
     "metadata": {},
     "output_type": "execute_result"
    }
   ],
   "source": [
    "d['index']"
   ]
  },
  {
   "cell_type": "code",
   "execution_count": 66,
   "id": "5e7e3bfc",
   "metadata": {},
   "outputs": [
    {
     "data": {
      "text/plain": [
       "10"
      ]
     },
     "execution_count": 66,
     "metadata": {},
     "output_type": "execute_result"
    }
   ],
   "source": [
    "d['int']"
   ]
  },
  {
   "cell_type": "code",
   "execution_count": 68,
   "id": "e73fbf70",
   "metadata": {},
   "outputs": [
    {
     "data": {
      "text/plain": [
       "1"
      ]
     },
     "execution_count": 68,
     "metadata": {},
     "output_type": "execute_result"
    }
   ],
   "source": [
    "d['list'][0]"
   ]
  },
  {
   "cell_type": "code",
   "execution_count": 69,
   "id": "dbdc956c",
   "metadata": {},
   "outputs": [
    {
     "data": {
      "text/plain": [
       "(1, 2, 3)"
      ]
     },
     "execution_count": 69,
     "metadata": {},
     "output_type": "execute_result"
    }
   ],
   "source": [
    "d['tuple']"
   ]
  },
  {
   "cell_type": "code",
   "execution_count": 70,
   "id": "b33d6c98",
   "metadata": {},
   "outputs": [
    {
     "data": {
      "text/plain": [
       "{'1': '2', '3': '4'}"
      ]
     },
     "execution_count": 70,
     "metadata": {},
     "output_type": "execute_result"
    }
   ],
   "source": [
    "d['dict']"
   ]
  },
  {
   "cell_type": "code",
   "execution_count": 76,
   "id": "c03d6929",
   "metadata": {},
   "outputs": [
    {
     "name": "stdout",
     "output_type": "stream",
     "text": [
      "Values -> ['value', 10, 10.5, 'ABC', True, [1, 2, 3], (1, 2, 3), {'1': '2', '3': '4'}]\n",
      "Keys -> ['index', 'int', 'float', 'str', 'bool', 'list', 'tuple', 'dict']\n"
     ]
    }
   ],
   "source": [
    "print(\"Values ->\", list(d.values()))\n",
    "print(\"Keys ->\", list(d.keys()))"
   ]
  },
  {
   "cell_type": "code",
   "execution_count": 77,
   "id": "4fdb8c06",
   "metadata": {},
   "outputs": [],
   "source": [
    "# set\n",
    "s = {1,2,3,4,5,6,7,7,7,7,7,-1,-10,15, 0}"
   ]
  },
  {
   "cell_type": "code",
   "execution_count": 78,
   "id": "832d9be0",
   "metadata": {},
   "outputs": [
    {
     "data": {
      "text/plain": [
       "{-10, -1, 0, 1, 2, 3, 4, 5, 6, 7, 15}"
      ]
     },
     "execution_count": 78,
     "metadata": {},
     "output_type": "execute_result"
    }
   ],
   "source": [
    "s"
   ]
  },
  {
   "cell_type": "code",
   "execution_count": 79,
   "id": "a9ec490c",
   "metadata": {},
   "outputs": [
    {
     "data": {
      "text/plain": [
       "[0, 1, 2, 3, 4, 5, 6, 7, 15, -10, -1]"
      ]
     },
     "execution_count": 79,
     "metadata": {},
     "output_type": "execute_result"
    }
   ],
   "source": [
    "list(s)"
   ]
  },
  {
   "cell_type": "code",
   "execution_count": 80,
   "id": "d1a3e0c7",
   "metadata": {},
   "outputs": [
    {
     "data": {
      "text/plain": [
       "(0, 1, 2, 3, 4, 5, 6, 7, 15, -10, -1)"
      ]
     },
     "execution_count": 80,
     "metadata": {},
     "output_type": "execute_result"
    }
   ],
   "source": [
    "tuple(s)"
   ]
  },
  {
   "cell_type": "markdown",
   "id": "31d52e91",
   "metadata": {},
   "source": [
    "# Operators:\n",
    "\n",
    "1. Arthimetic Operators:\n",
    "    * '+'\n",
    "    * '-'\n",
    "    * '*'\n",
    "    * /\n",
    "    * //\n",
    "    * %\n",
    "    * '**'\n",
    "2. Conditional Operators:\n",
    "    * \">\"\n",
    "    * \"<\"\n",
    "    * \">=\"\n",
    "    * \"<=\"\n",
    "    * == (compare)\n",
    "    * != (not compare)\n",
    "    * and\n",
    "    * or"
   ]
  },
  {
   "cell_type": "code",
   "execution_count": 83,
   "id": "030bbb28",
   "metadata": {},
   "outputs": [
    {
     "name": "stdout",
     "output_type": "stream",
     "text": [
      "+ -> 30\n",
      "- -> -10\n",
      "* -> 200\n",
      "/ -> 0.5\n"
     ]
    }
   ],
   "source": [
    "# arthimetic operators:\n",
    "\n",
    "a = 10\n",
    "b = 20\n",
    "\n",
    "print(\"+ ->\", a+b)\n",
    "print(\"- ->\", a-b)\n",
    "print(\"* ->\", a*b)\n",
    "print(\"/ ->\", a/b)"
   ]
  },
  {
   "cell_type": "code",
   "execution_count": 87,
   "id": "b434d5b6",
   "metadata": {},
   "outputs": [
    {
     "data": {
      "text/plain": [
       "160000"
      ]
     },
     "execution_count": 87,
     "metadata": {},
     "output_type": "execute_result"
    }
   ],
   "source": [
    "20**4"
   ]
  },
  {
   "cell_type": "code",
   "execution_count": 88,
   "id": "5e99d3ae",
   "metadata": {},
   "outputs": [
    {
     "data": {
      "text/plain": [
       "0"
      ]
     },
     "execution_count": 88,
     "metadata": {},
     "output_type": "execute_result"
    }
   ],
   "source": [
    "2%2"
   ]
  },
  {
   "cell_type": "code",
   "execution_count": 89,
   "id": "30aa0270",
   "metadata": {},
   "outputs": [
    {
     "data": {
      "text/plain": [
       "1.0"
      ]
     },
     "execution_count": 89,
     "metadata": {},
     "output_type": "execute_result"
    }
   ],
   "source": [
    "2/2"
   ]
  },
  {
   "cell_type": "code",
   "execution_count": 90,
   "id": "ea7ec8e4",
   "metadata": {},
   "outputs": [
    {
     "data": {
      "text/plain": [
       "0"
      ]
     },
     "execution_count": 90,
     "metadata": {},
     "output_type": "execute_result"
    }
   ],
   "source": [
    "4%2"
   ]
  },
  {
   "cell_type": "code",
   "execution_count": 91,
   "id": "2610bf8a",
   "metadata": {},
   "outputs": [
    {
     "data": {
      "text/plain": [
       "0"
      ]
     },
     "execution_count": 91,
     "metadata": {},
     "output_type": "execute_result"
    }
   ],
   "source": [
    "6%2"
   ]
  },
  {
   "cell_type": "code",
   "execution_count": 92,
   "id": "9e03b258",
   "metadata": {},
   "outputs": [
    {
     "data": {
      "text/plain": [
       "1"
      ]
     },
     "execution_count": 92,
     "metadata": {},
     "output_type": "execute_result"
    }
   ],
   "source": [
    "6%5"
   ]
  },
  {
   "cell_type": "code",
   "execution_count": 93,
   "id": "5b6248f5",
   "metadata": {},
   "outputs": [
    {
     "data": {
      "text/plain": [
       "1"
      ]
     },
     "execution_count": 93,
     "metadata": {},
     "output_type": "execute_result"
    }
   ],
   "source": [
    "2//2"
   ]
  },
  {
   "cell_type": "code",
   "execution_count": 94,
   "id": "47015fb0",
   "metadata": {},
   "outputs": [
    {
     "name": "stdout",
     "output_type": "stream",
     "text": [
      "False\n",
      "True\n",
      "False\n",
      "True\n",
      "False\n",
      "True\n"
     ]
    }
   ],
   "source": [
    "# conditional operators:\n",
    "\n",
    "print(2>3)\n",
    "print(2<3)\n",
    "print(2>=3)\n",
    "print(2<=3)\n",
    "print(2==3)\n",
    "print(2!=3)"
   ]
  },
  {
   "cell_type": "code",
   "execution_count": 95,
   "id": "83454d7b",
   "metadata": {},
   "outputs": [],
   "source": [
    "id = 'HridayG'\n",
    "password = \"Hola_amigo\""
   ]
  },
  {
   "cell_type": "code",
   "execution_count": 99,
   "id": "ef731cc8",
   "metadata": {},
   "outputs": [
    {
     "data": {
      "text/plain": [
       "False"
      ]
     },
     "execution_count": 99,
     "metadata": {},
     "output_type": "execute_result"
    }
   ],
   "source": [
    "(id == 'HridayG') and (password==\"HridayG23\")\n",
    "# True                  False -> False"
   ]
  },
  {
   "cell_type": "code",
   "execution_count": 100,
   "id": "e2794c16",
   "metadata": {},
   "outputs": [
    {
     "data": {
      "text/plain": [
       "True"
      ]
     },
     "execution_count": 100,
     "metadata": {},
     "output_type": "execute_result"
    }
   ],
   "source": [
    "(id == 'HridayG') or (password==\"HridayG23\")\n",
    "# True                  False -> True"
   ]
  },
  {
   "cell_type": "code",
   "execution_count": 101,
   "id": "98d386f9",
   "metadata": {},
   "outputs": [
    {
     "data": {
      "text/plain": [
       "True"
      ]
     },
     "execution_count": 101,
     "metadata": {},
     "output_type": "execute_result"
    }
   ],
   "source": [
    "(id == 'HridayG') and (password==\"Hola_amigo\")\n",
    "# True                  True -> True"
   ]
  },
  {
   "cell_type": "code",
   "execution_count": 102,
   "id": "81884c46",
   "metadata": {},
   "outputs": [
    {
     "data": {
      "text/plain": [
       "False"
      ]
     },
     "execution_count": 102,
     "metadata": {},
     "output_type": "execute_result"
    }
   ],
   "source": [
    "(id == 'Hriday') or (password==\"HridayG23\")"
   ]
  },
  {
   "cell_type": "markdown",
   "id": "817b3041",
   "metadata": {},
   "source": [
    "# Conditions\n",
    "<pre>\n",
    "Syntax for conditions:\n",
    "    if (condition):\n",
    "        code\n",
    "    else:\n",
    "        code\n",
    "</pre>"
   ]
  },
  {
   "cell_type": "code",
   "execution_count": 104,
   "id": "5780b3ca",
   "metadata": {},
   "outputs": [
    {
     "name": "stdout",
     "output_type": "stream",
     "text": [
      "No\n"
     ]
    }
   ],
   "source": [
    "if(2>3):\n",
    "    print(\"Yes\")\n",
    "else:\n",
    "    print(\"No\")"
   ]
  },
  {
   "cell_type": "code",
   "execution_count": 106,
   "id": "238af938",
   "metadata": {},
   "outputs": [
    {
     "name": "stdout",
     "output_type": "stream",
     "text": [
      "Logged in\n"
     ]
    }
   ],
   "source": [
    "id = 'HridayG'\n",
    "password = \"Hola_amigo\"\n",
    "\n",
    "if ((id == 'HridayG') or (password==\"Hola_amigo\")):\n",
    "    print(\"Logged in\")\n",
    "else:\n",
    "    print(\"Couldn't login\")"
   ]
  },
  {
   "cell_type": "code",
   "execution_count": null,
   "id": "88826ab7",
   "metadata": {},
   "outputs": [],
   "source": []
  }
 ],
 "metadata": {
  "kernelspec": {
   "display_name": "Python 3 (ipykernel)",
   "language": "python",
   "name": "python3"
  },
  "language_info": {
   "codemirror_mode": {
    "name": "ipython",
    "version": 3
   },
   "file_extension": ".py",
   "mimetype": "text/x-python",
   "name": "python",
   "nbconvert_exporter": "python",
   "pygments_lexer": "ipython3",
   "version": "3.11.8"
  }
 },
 "nbformat": 4,
 "nbformat_minor": 5
}
